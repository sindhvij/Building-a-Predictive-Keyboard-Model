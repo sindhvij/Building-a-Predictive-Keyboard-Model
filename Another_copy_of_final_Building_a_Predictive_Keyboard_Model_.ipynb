{
  "cells": [
    {
      "cell_type": "markdown",
      "metadata": {
        "id": "Tb5kFxZRtWS6"
      },
      "source": [
        "**Building a Predictive Keyboard Model Using ML**"
      ]
    },
    {
      "cell_type": "markdown",
      "source": [
        "**PROBLEM STATEMENT**"
      ],
      "metadata": {
        "id": "oApUesYxe9lK"
      }
    },
    {
      "cell_type": "markdown",
      "source": [
        "Typing on digital devices can be time-consuming and error-prone, especially on small screens. Intelligent keyboards aim to improve typing efficiency by suggesting the next word a user is likely to type. This project focuses on building machine learning models capable of learning from text sequences to accurately predict the next word in a sentence."
      ],
      "metadata": {
        "id": "GwgGyAGae-fJ"
      }
    },
    {
      "cell_type": "markdown",
      "source": [
        "**DATA SET**"
      ],
      "metadata": {
        "id": "x3mK0KGnfGzp"
      }
    },
    {
      "cell_type": "markdown",
      "source": [
        "The Adventures of Sherlock Holmes\n",
        "The Memoirs of Sherlock Holmes\n",
        "The Return of Sherlock Holmes\n",
        "His Last Bow\n",
        "The Case-Book of Sherlock Holmes"
      ],
      "metadata": {
        "id": "6eC9uC6GfGcx"
      }
    },
    {
      "cell_type": "markdown",
      "source": [
        "**SELECTED MODELS**"
      ],
      "metadata": {
        "id": "SrME2X--fWBl"
      }
    },
    {
      "cell_type": "markdown",
      "source": [
        "1. N-Gram Language Model (Baseline)\n",
        "\n",
        "2. GRU (Gated Recurrent Unit) Model\n",
        "\n",
        "3. LSTM (Long Short-Term Memory) Model\n",
        "\n",
        "4. Transformer-based Model\n"
      ],
      "metadata": {
        "id": "v898yX6HfVeh"
      }
    },
    {
      "cell_type": "markdown",
      "source": [
        "**EVALUATION CRITERION**"
      ],
      "metadata": {
        "id": "7lvGdPmEfwVQ"
      }
    },
    {
      "cell_type": "markdown",
      "source": [
        "1. Top-1 Accuracy\n",
        "Definition: Percentage of times the model’s top predicted word exactly matches the correct next word.\n",
        "\n",
        "Purpose: Measures the model's precision when only one prediction is allowed.\n",
        "\n",
        "\n",
        "2. Top-5 Accuracy\n",
        "Definition: Percentage of times the correct next word appears within the model’s top 5 predictions.\n",
        "\n",
        "Purpose: Captures how often the correct word is \"among\" the most likely predictions — important in predictive keyboards where suggestions are shown.\n",
        "\n",
        "3. Perplexity (PPL)\n",
        "Definition: Measures how well a model predicts a sample. Lower values indicate better predictive performance.\n",
        "\n",
        "Purpose: Evaluates how \"confident\" the model is in its predictions; common in language modeling tasks. where the loss is typically cross-entropy.\n",
        "\n"
      ],
      "metadata": {
        "id": "yDR20KlEfvb7"
      }
    },
    {
      "cell_type": "markdown",
      "metadata": {
        "id": "ddjWj-FDuDcv"
      },
      "source": [
        " **Preparing the Dataset**\n",
        "\n",
        "We will start with tokenizing the text data and converting everything to lowercase"
      ]
    },
    {
      "cell_type": "code",
      "execution_count": null,
      "metadata": {
        "colab": {
          "base_uri": "https://localhost:8080/"
        },
        "id": "AAMOz9EauUDM",
        "outputId": "d04df963-2916-4d2a-e048-e5b721747f57"
      },
      "outputs": [
        {
          "output_type": "stream",
          "name": "stderr",
          "text": [
            "[nltk_data] Downloading package punkt to /root/nltk_data...\n",
            "[nltk_data]   Package punkt is already up-to-date!\n",
            "[nltk_data] Downloading package punkt_tab to /root/nltk_data...\n",
            "[nltk_data]   Package punkt_tab is already up-to-date!\n"
          ]
        },
        {
          "output_type": "stream",
          "name": "stdout",
          "text": [
            "Total Tokens: 125772\n"
          ]
        }
      ],
      "source": [
        "import nltk\n",
        "from nltk.tokenize import word_tokenize\n",
        "nltk.download('punkt')\n",
        "nltk.download('punkt_tab')\n",
        "\n",
        "# load data\n",
        "with open('/content/sherlock-holm.es_stories_plain-text_advs.txt', 'r', encoding='utf-8') as f:\n",
        "    text = f.read().lower()\n",
        "\n",
        "tokens = word_tokenize(text)\n",
        "print(\"Total Tokens:\", len(tokens))"
      ]
    },
    {
      "cell_type": "markdown",
      "metadata": {
        "id": "9Ow1-8PCuIrt"
      },
      "source": [
        "Here, we converted the text to lowercase (to maintain consistency) and used word_tokenize to break the entire corpus into word-level tokens. This prepares our data for model training by converting raw text into a structured format that the model can understand."
      ]
    },
    {
      "cell_type": "markdown",
      "metadata": {
        "id": "6IBVZBi-utRq"
      },
      "source": [
        "Creating a Vocabulary**\n",
        "Next, we need a way to convert words into numbers. So we will create:\n",
        "\n",
        "1. a dictionary to map each word to an index\n",
        "2. and another dictionary to reverse it back\n"
      ]
    },
    {
      "cell_type": "markdown",
      "metadata": {
        "id": "lzMGQTUxu4fr"
      },
      "source": [
        " **build the vocabulary and create word-to-index mappings**"
      ]
    },
    {
      "cell_type": "code",
      "execution_count": null,
      "metadata": {
        "id": "M8fJl1vPui_W"
      },
      "outputs": [],
      "source": [
        "from collections import Counter\n",
        "\n",
        "word_counts = Counter(tokens)\n",
        "vocab = sorted(word_counts, key=word_counts.get, reverse=True)\n",
        "word2idx = {word: idx for idx, word in enumerate(vocab)}\n",
        "idx2word = {idx: word for word, idx in word2idx.items()}\n",
        "vocab_size = len(vocab)"
      ]
    },
    {
      "cell_type": "markdown",
      "metadata": {
        "id": "dWDSAtjfvLXq"
      },
      "source": [
        "we counted how often each word appears using Counter, then sorted the vocabulary from most to least frequent. This sorted list helps us assign lower indices to more common words. Then, we created word2idx and idx2word dictionaries to convert words to unique IDs and back. Finally, we stored the total vocabulary size, which will define the input and output dimensions for our model."
      ]
    },
    {
      "cell_type": "markdown",
      "metadata": {
        "id": "x1wnNtQlvR-H"
      },
      "source": [
        "**Building Input-Output Sequences**\n",
        "\n",
        "To predict the next word, the model needs context. We can use a sliding window approach. So, let’s create input-target sequences for next word prediction:"
      ]
    },
    {
      "cell_type": "code",
      "execution_count": null,
      "metadata": {
        "id": "SH-g9M0tv3T8",
        "colab": {
          "base_uri": "https://localhost:8080/"
        },
        "outputId": "748d8b66-0e77-46f6-b78a-cf33a71f2a2a"
      },
      "outputs": [
        {
          "output_type": "stream",
          "name": "stdout",
          "text": [
            "Prepared 125768 input-target pairs.\n"
          ]
        }
      ],
      "source": [
        "# Prepare sequences\n",
        "sequence_length = 4\n",
        "data = []\n",
        "for i in range(len(tokens) - sequence_length):\n",
        "    input_seq = tokens[i:i + sequence_length - 1]\n",
        "    target = tokens[i + sequence_length - 1]\n",
        "    data.append((input_seq, target))\n",
        "\n",
        "# Encode sequences\n",
        "def encode(seq):\n",
        "    return [word2idx[word] for word in seq]\n",
        "\n",
        "encoded_data = [(torch.tensor(encode(inp)), torch.tensor(word2idx[target]))\n",
        "                for inp, target in data]\n",
        "\n",
        "print(f\"Prepared {len(encoded_data)} input-target pairs.\")"
      ]
    },
    {
      "cell_type": "markdown",
      "metadata": {
        "id": "pS6EnVzOwEA_"
      },
      "source": [
        "Here, we used a sliding window approach to generate training samples: for every group of 3 consecutive words (input), we predict the next word (target). It prepares the data for sequence modelling"
      ]
    },
    {
      "cell_type": "markdown",
      "metadata": {
        "id": "lDs9CX1RwFOG"
      },
      "source": [
        "we defined an encode function to convert each word in the sequence into its corresponding index using our vocabulary"
      ]
    },
    {
      "cell_type": "markdown",
      "metadata": {
        "id": "Mc-QU-qOwLK-"
      },
      "source": [
        "we build encoded_data, a list of (input_tensor, target_tensor) pairs, where each input is a tensor of word indices and the target is the index of the next word to be predicted."
      ]
    },
    {
      "cell_type": "markdown",
      "metadata": {
        "id": "r7hRDRygc7Vs"
      },
      "source": [
        "### Exploratory Data Analysis (EDA)\n",
        "\n",
        "Before training our models, let's understand the structure and characteristics of our dataset.\n",
        "This includes:\n",
        "- Sentence length distribution\n",
        "- Word frequency distribution\n",
        "- Vocabulary size\n"
      ]
    },
    {
      "cell_type": "code",
      "execution_count": null,
      "metadata": {
        "colab": {
          "base_uri": "https://localhost:8080/",
          "height": 564
        },
        "id": "JgqKwUTWcv45",
        "outputId": "0ab8f2dc-6762-4f53-edfd-e9fbfbbd0986"
      },
      "outputs": [
        {
          "output_type": "display_data",
          "data": {
            "text/plain": [
              "<Figure size 1000x600 with 1 Axes>"
            ],
            "image/png": "[encoded data removed]"
          },
          "metadata": {}
        }
      ],
      "source": [
        "import matplotlib.pyplot as plt\n",
        "import seaborn as sns\n",
        "from collections import Counter\n",
        "import nltk\n",
        "from nltk.tokenize import sent_tokenize\n",
        "\n",
        "# Ensure sentence tokenizer is downloaded\n",
        "try:\n",
        "    nltk.data.find('tokenizers/punkt')\n",
        "except nltk.downloader.DownloadError:\n",
        "    nltk.download('punkt')\n",
        "\n",
        "\n",
        "\n",
        "# Split the text into sentences\n",
        "sentences = sent_tokenize(text)\n",
        "\n",
        "# Calculate sentence length distribution\n",
        "# We will calculate the length of each sentence in the 'sentences' list.\n",
        "sentence_lengths = [len(sentence.split()) for sentence in sentences]\n",
        "\n",
        "\n",
        "plt.figure(figsize=(10, 6))\n",
        "sns.histplot(sentence_lengths, bins=30, kde=True, color='skyblue')\n",
        "plt.title(\"Sentence Length Distribution\")\n",
        "plt.xlabel(\"Number of Words per Sentence\")\n",
        "plt.ylabel(\"Frequency\")\n",
        "plt.grid(True)\n",
        "plt.show()"
      ]
    },
    {
      "cell_type": "code",
      "execution_count": null,
      "metadata": {
        "colab": {
          "base_uri": "https://localhost:8080/",
          "height": 671
        },
        "id": "scf393KtdZSc",
        "outputId": "09bdd089-d0f0-49e3-db83-c625b9170ac4"
      },
      "outputs": [
        {
          "output_type": "stream",
          "name": "stderr",
          "text": [
            "/tmp/ipython-input-31-3806752438.py:14: FutureWarning: \n",
            "\n",
            "Passing `palette` without assigning `hue` is deprecated and will be removed in v0.14.0. Assign the `x` variable to `hue` and set `legend=False` for the same effect.\n",
            "\n",
            "  sns.barplot(x=list(words), y=list(counts), palette=\"viridis\")\n"
          ]
        },
        {
          "output_type": "display_data",
          "data": {
            "text/plain": [
              "<Figure size 1200x600 with 1 Axes>"
            ],
            "image/png": "[encoded data removed]"
          },
          "metadata": {}
        }
      ],
      "source": [
        "#most common words\n",
        "from collections import Counter\n",
        "import matplotlib.pyplot as plt\n",
        "import seaborn as sns\n",
        "\n",
        "# Iterate over the 'tokens' list instead of the undefined 'pairs'\n",
        "all_words = tokens # Use the already tokenized list\n",
        "word_counts = Counter(all_words)\n",
        "common_words = word_counts.most_common(30)\n",
        "\n",
        "words, counts = zip(*common_words)\n",
        "\n",
        "plt.figure(figsize=(12, 6))\n",
        "sns.barplot(x=list(words), y=list(counts), palette=\"viridis\")\n",
        "plt.title(\"Top 30 Most Common Words\")\n",
        "plt.xticks(rotation=45)\n",
        "plt.ylabel(\"Frequency\")\n",
        "plt.show()"
      ]
    },
    {
      "cell_type": "code",
      "execution_count": null,
      "metadata": {
        "colab": {
          "base_uri": "https://localhost:8080/"
        },
        "id": "s96E4_1Tdfa5",
        "outputId": "f4bdf50f-d216-4235-f01d-20cba3441818"
      },
      "outputs": [
        {
          "output_type": "stream",
          "name": "stdout",
          "text": [
            "Total Words: 125,772\n",
            "Unique Words: 8,360\n"
          ]
        }
      ],
      "source": [
        "print(f\"Total Words: {len(all_words):,}\")\n",
        "print(f\"Unique Words: {len(set(all_words)):,}\")"
      ]
    },
    {
      "cell_type": "markdown",
      "source": [
        "**Define,train and evaluate the N-gram Model**"
      ],
      "metadata": {
        "id": "gjxhaUS5dyZ7"
      }
    },
    {
      "cell_type": "markdown",
      "source": [
        "🔧 Purpose\n",
        "This code implements and evaluates an n-gram language model — a simple statistical model used to predict the next word in a sequence based on the previous words. It's designed to work with tokenized data (where each word is mapped to a number) and can make predictions or suggestions for word completions, like a basic predictive keyboard.\n",
        "\n",
        "📚 Model Construction\n",
        "The NGramModel class is created to build and use an n-gram model.\n",
        "\n",
        "The model learns from a list of tokens (which are word IDs), analyzing sequences of n words to record how often certain words follow specific word combinations (contexts).\n",
        "\n",
        "These patterns are stored using a defaultdict of Counter, where each unique (n-1)-gram context maps to a count of possible next words.\n",
        "\n",
        "🤖 Making Predictions\n",
        "Once trained, the model can:\n",
        "\n",
        "Predict the most likely next word (predict).\n",
        "\n",
        "Suggest the top-k likely next words (predict_top_k).\n",
        "\n",
        "Return a probability distribution over the next word (predict_prob), useful for measuring how confident the model is.\n",
        "\n",
        "📏 Model Evaluation\n",
        "A function evaluate_ngram_model is defined to evaluate how well the model performs:\n",
        "\n",
        "It samples sequences from the dataset and checks if the model correctly predicts the next word.\n",
        "\n",
        "It calculates:\n",
        "\n",
        "Top-k Accuracy: How often the true next word appears in the top-k predictions.\n",
        "\n",
        "Perplexity: A standard NLP metric that measures how uncertain the model is about predicting the next word — lower is better.\n",
        "\n",
        "💡 Word Suggestions\n",
        "Another function suggest_next_words_ngram is provided for a user to input a phrase (like \"so are we\"). The model converts this phrase into token IDs, extracts the last n-1 tokens (the context), and returns the top-k predicted next words — essentially mimicking autocomplete or text prediction.\n",
        "\n",
        "🧪 Usage\n",
        "The model is trained on a tokenized dataset using 4-grams (sequences of 4 words).\n",
        "\n",
        "Then it's evaluated using accuracy and perplexity.\n",
        "\n",
        "Finally, a few prompts are passed through the model to get next-word suggestions.\n",
        "\n"
      ],
      "metadata": {
        "id": "96qMeFiibp77"
      }
    },
    {
      "cell_type": "code",
      "source": [
        "from collections import defaultdict, Counter\n",
        "import random\n",
        "import math\n",
        "\n",
        "class NGramModel:\n",
        "    def __init__(self, n, tokens, word2idx):\n",
        "        self.n = n\n",
        "        self.word2idx = word2idx\n",
        "        self.ngrams = defaultdict(Counter)\n",
        "        self.vocab = list(word2idx.values())\n",
        "        self._build_ngrams(tokens)\n",
        "\n",
        "    def _build_ngrams(self, tokens):\n",
        "        for i in range(len(tokens) - self.n + 1):\n",
        "            context = tuple(tokens[i:i+self.n-1])\n",
        "            target = tokens[i+self.n-1]\n",
        "            self.ngrams[context][target] += 1\n",
        "\n",
        "    def predict(self, context):\n",
        "        if context not in self.ngrams:\n",
        "            return random.choice(self.vocab)\n",
        "        return self.ngrams[context].most_common(1)[0][0]\n",
        "\n",
        "    def predict_top_k(self, context, k=5):\n",
        "        if context not in self.ngrams:\n",
        "            return random.sample(self.vocab, k)\n",
        "        return [word for word, _ in self.ngrams[context].most_common(k)]\n",
        "\n",
        "    def predict_prob(self, context):\n",
        "        \"\"\"Return probability distribution for next token given context\"\"\"\n",
        "        if context not in self.ngrams:\n",
        "            prob = 1 / len(self.vocab)\n",
        "            return {wid: prob for wid in self.vocab}\n",
        "        counter = self.ngrams[context]\n",
        "        total = sum(counter.values())\n",
        "        return {wid: count / total for wid, count in counter.items()}\n",
        "\n",
        "# Instantiate the model\n",
        "ngram_model = NGramModel(n=4, tokens=[word2idx[w] for w in tokens], word2idx=word2idx)\n",
        "print(\"✅ Trained 4-gram model.\")\n",
        "\n",
        "\n",
        "# Evaluation with Accuracy and Perplexity\n",
        "def evaluate_ngram_model(model, encoded_data, top_k=1, max_samples=2000):\n",
        "    correct = 0\n",
        "    total = 0\n",
        "    total_log_prob = 0.0\n",
        "\n",
        "    for input_seq, target in random.sample(encoded_data, min(len(encoded_data), max_samples)):\n",
        "        context = tuple(input_seq.tolist())\n",
        "        target_idx = target.item()\n",
        "\n",
        "        # Get probabilities\n",
        "        probs = model.predict_prob(context)\n",
        "        prob = probs.get(target_idx, 1e-9)  # Avoid log(0)\n",
        "        total_log_prob += -math.log(prob)\n",
        "\n",
        "        # Accuracy\n",
        "        if top_k == 1:\n",
        "            pred = model.predict(context)\n",
        "            correct += (pred == target_idx)\n",
        "        else:\n",
        "            preds = model.predict_top_k(context, k=top_k)\n",
        "            correct += (target_idx in preds)\n",
        "\n",
        "        total += 1\n",
        "\n",
        "    acc = correct / total * 100\n",
        "    ppl = math.exp(total_log_prob / total)\n",
        "    print(f\"Top-{top_k} Accuracy: {acc:.2f}% | Perplexity: {ppl:.2f}\")\n",
        "    return acc, ppl\n",
        "\n",
        "\n",
        "# Run Evaluation\n",
        "evaluate_ngram_model(ngram_model, encoded_data, top_k=1)\n",
        "evaluate_ngram_model(ngram_model, encoded_data, top_k=5)\n"
      ],
      "metadata": {
        "colab": {
          "base_uri": "https://localhost:8080/"
        },
        "id": "74LstDkNR9M8",
        "outputId": "4508d36a-6616-4005-cab8-2505744841a8"
      },
      "execution_count": null,
      "outputs": [
        {
          "output_type": "stream",
          "name": "stdout",
          "text": [
            "✅ Trained 4-gram model.\n",
            "Top-1 Accuracy: 79.80% | Perplexity: 1.61\n",
            "Top-5 Accuracy: 95.70% | Perplexity: 1.59\n"
          ]
        },
        {
          "output_type": "execute_result",
          "data": {
            "text/plain": [
              "(95.7, 1.5888920395360733)"
            ]
          },
          "metadata": {},
          "execution_count": 115
        }
      ]
    },
    {
      "cell_type": "markdown",
      "source": [
        "**Define Prediction Function**"
      ],
      "metadata": {
        "id": "XRhYNXCcgkGi"
      }
    },
    {
      "cell_type": "code",
      "source": [
        "def suggest_next_words_ngram(model, input_text, word2idx, idx2word, n=4, k=5):\n",
        "    tokens = input_text.lower().split()\n",
        "\n",
        "    # Pad or trim to n-1\n",
        "    if len(tokens) < n - 1:\n",
        "        tokens = [\"<unk>\"] * (n - 1 - len(tokens)) + tokens\n",
        "    else:\n",
        "        tokens = tokens[-(n - 1):]\n",
        "\n",
        "    context = tuple(word2idx.get(w, word2idx.get(\"<unk>\", 0)) for w in tokens)\n",
        "\n",
        "    # Get top-k predicted next word IDs\n",
        "    predictions = model.predict_top_k(context, k)\n",
        "    suggestions = [idx2word.get(idx, \"<unk>\") for idx in predictions]\n",
        "\n",
        "    return suggestions\n",
        "\n",
        "\n"
      ],
      "metadata": {
        "id": "j4F5qlzPgjwT"
      },
      "execution_count": null,
      "outputs": []
    },
    {
      "cell_type": "markdown",
      "source": [
        "**word Predictions**"
      ],
      "metadata": {
        "id": "QQyGfkqzgog5"
      }
    },
    {
      "cell_type": "code",
      "source": [
        "prompts = [\n",
        "    \"so are we\",\n",
        "\n",
        "]\n",
        "\n",
        "for phrase in prompts:\n",
        "    suggestions = suggest_next_words_ngram(ngram_model, phrase, word2idx, idx2word, n=4, k=5)\n",
        "    print(f\"Suggestions for '{phrase}': {suggestions}\")\n"
      ],
      "metadata": {
        "colab": {
          "base_uri": "https://localhost:8080/"
        },
        "id": "t_dZh0FYgoK9",
        "outputId": "45bc9591-d929-4b44-8e40-b6a35ed0e3cd"
      },
      "execution_count": null,
      "outputs": [
        {
          "output_type": "stream",
          "name": "stdout",
          "text": [
            "Suggestions for 'so are we': ['suddenly', 'twinkle', 'saturated', 'washing', 'they']\n"
          ]
        }
      ]
    },
    {
      "cell_type": "markdown",
      "source": [
        "**Define and training GRU model**"
      ],
      "metadata": {
        "id": "2ASiCXpqfuXg"
      }
    },
    {
      "cell_type": "markdown",
      "source": [
        "🔄 Overall Objective\n",
        "You are training a GRU (Gated Recurrent Unit) model to predict the next word in a sequence of 3 words (since sequence_length = 4, the first 3 are input and the 4th is the target). This model will learn patterns in text data, just like an autocomplete or predictive keyboard.\n",
        "\n",
        "🧱 Step-by-Step Breakdown\n",
        "1. Prepare Encoded Input-Output Pairs\n",
        "You define a function encode() to convert words to indices using word2idx.\n",
        "\n",
        "You build encoded_data as a list of (input_sequence, target_word) pairs.\n",
        "\n",
        "For example, for [\"we\", \"are\", \"going\", \"home\"], input = [we, are, going], target = home.\n",
        "\n",
        "2. Wrap into a DataLoader\n",
        "Inputs X and targets y are stacked into tensors.\n",
        "\n",
        "A PyTorch DataLoader is created to efficiently load batches of data during training.\n",
        "\n",
        "3. Define GRU Model\n",
        "The model has:\n",
        "\n",
        "An embedding layer: turns word indices into dense vectors.\n",
        "\n",
        "A GRU layer: learns to understand sequences of word embeddings.\n",
        "\n",
        "A fully connected layer: outputs scores for each word in the vocabulary, indicating how likely each word is to come next.\n",
        "\n",
        "4. Training the Model\n",
        "The model is trained over multiple epochs.\n",
        "\n",
        "For each batch of input sequences:\n",
        "\n",
        "It makes predictions for the next word.\n",
        "\n",
        "Compares predictions with actual targets using CrossEntropyLoss.\n",
        "\n",
        "Updates its internal weights via backpropagation using the Adam optimizer.\n",
        "\n",
        "After each epoch, the model's average loss is printed.\n",
        "\n",
        "The trained model weights are saved to disk as \"gru_keyboard_model.pth\".\n",
        "\n",
        "5. Loading the Model\n",
        "To use the model later (for inference), you redefine the exact same model architecture.\n",
        "\n",
        "You then load the saved weights into this new model and set it to evaluation mode.\n",
        "\n",
        "🧠 Summary\n",
        "You’ve created a GRU-based language model that:\n",
        "\n",
        "Learns to predict the next word based on 3 previous words.\n",
        "\n",
        "Can be trained on tokenized text data.\n",
        "\n",
        "Is saved and reloaded for use without retraining."
      ],
      "metadata": {
        "id": "fAy-6ZgDbyet"
      }
    },
    {
      "cell_type": "code",
      "source": [
        "# Make sure you have: sequence_length = 4\n",
        "def encode(seq): return [word2idx[word] for word in seq]\n",
        "\n",
        "encoded_data = [\n",
        "    (torch.tensor(encode(tokens[i:i + sequence_length - 1])),\n",
        "     torch.tensor(word2idx[tokens[i + sequence_length - 1]]))\n",
        "    for i in range(len(tokens) - sequence_length)\n",
        "]\n"
      ],
      "metadata": {
        "id": "k1G2g-lvswrR"
      },
      "execution_count": null,
      "outputs": []
    },
    {
      "cell_type": "code",
      "source": [
        "import torch\n",
        "import torch.nn as nn\n",
        "import torch.optim as optim\n",
        "from torch.utils.data import DataLoader, TensorDataset\n",
        "import random\n",
        "import math\n",
        "\n",
        "\n",
        "# Prepare input and target tensors\n",
        "X = torch.stack([x for x, _ in encoded_data])\n",
        "y = torch.stack([y for _, y in encoded_data])\n",
        "\n",
        "# DataLoader\n",
        "batch_size = 64\n",
        "train_dataset = TensorDataset(X, y)\n",
        "train_loader = DataLoader(train_dataset, batch_size=batch_size, shuffle=True)\n",
        "\n",
        "# Define GRU Model\n",
        "class GRUKeyboardModel(nn.Module):\n",
        "    def __init__(self, vocab_size, embed_dim=128, hidden_dim=256):\n",
        "        super(GRUKeyboardModel, self).__init__()\n",
        "        self.embedding = nn.Embedding(vocab_size, embed_dim)\n",
        "        self.gru = nn.GRU(embed_dim, hidden_dim, batch_first=True)\n",
        "        self.fc = nn.Linear(hidden_dim, vocab_size)\n",
        "\n",
        "    def forward(self, x):\n",
        "        x = self.embedding(x)\n",
        "        _, hidden = self.gru(x)\n",
        "        out = self.fc(hidden[-1])\n",
        "        return out\n",
        "\n",
        "# Initialize model, loss, optimizer\n",
        "device = torch.device(\"cuda\" if torch.cuda.is_available() else \"cpu\")\n",
        "model = GRUKeyboardModel(vocab_size).to(device)\n",
        "criterion = nn.CrossEntropyLoss()\n",
        "optimizer = optim.Adam(model.parameters(), lr=0.003)\n",
        "\n",
        "# Training Loop\n",
        "epochs = 5\n",
        "for epoch in range(epochs):\n",
        "    model.train()\n",
        "    total_loss = 0\n",
        "    for inputs, targets in train_loader:\n",
        "        inputs, targets = inputs.to(device), targets.to(device)\n",
        "        optimizer.zero_grad()\n",
        "        outputs = model(inputs)\n",
        "        loss = criterion(outputs, targets)\n",
        "        loss.backward()\n",
        "        optimizer.step()\n",
        "        total_loss += loss.item()\n",
        "    print(f\"[Epoch {epoch+1}] Loss: {total_loss / len(train_loader):.4f}\")\n",
        "    # Save model weights\n",
        "    torch.save(model.state_dict(), \"gru_keyboard_model.pth\")\n"
      ],
      "metadata": {
        "colab": {
          "base_uri": "https://localhost:8080/"
        },
        "id": "tQZE6QuEsk5U",
        "outputId": "a7a8369f-a28f-4116-fb8f-929f882d7b93"
      },
      "execution_count": null,
      "outputs": [
        {
          "output_type": "stream",
          "name": "stdout",
          "text": [
            "[Epoch 1] Loss: 5.2687\n",
            "[Epoch 2] Loss: 4.2888\n",
            "[Epoch 3] Loss: 3.4914\n",
            "[Epoch 4] Loss: 2.8975\n",
            "[Epoch 5] Loss: 2.5311\n"
          ]
        }
      ]
    },
    {
      "cell_type": "code",
      "source": [
        "# Redefine the GRU class (must match architecture exactly)\n",
        "class GRUKeyboardModel(nn.Module):\n",
        "    def __init__(self, vocab_size, embed_dim=128, hidden_dim=256):\n",
        "        super(GRUKeyboardModel, self).__init__()\n",
        "        self.embedding = nn.Embedding(vocab_size, embed_dim)\n",
        "        self.gru = nn.GRU(embed_dim, hidden_dim, batch_first=True)\n",
        "        self.fc = nn.Linear(hidden_dim, vocab_size)\n",
        "\n",
        "    def forward(self, x):\n",
        "        x = self.embedding(x)\n",
        "        _, hidden = self.gru(x)\n",
        "        out = self.fc(hidden[-1])\n",
        "        return out\n",
        "\n",
        "# Load the model weights\n",
        "device = torch.device(\"cuda\" if torch.cuda.is_available() else \"cpu\")\n",
        "loaded_model = GRUKeyboardModel(vocab_size).to(device)\n",
        "loaded_model.load_state_dict(torch.load(\"gru_keyboard_model.pth\"))\n",
        "loaded_model.eval()\n"
      ],
      "metadata": {
        "colab": {
          "base_uri": "https://localhost:8080/"
        },
        "id": "qwWsOBzk9IfU",
        "outputId": "cb1df897-0e29-42d9-f197-6316c2227bb4"
      },
      "execution_count": null,
      "outputs": [
        {
          "output_type": "execute_result",
          "data": {
            "text/plain": [
              "GRUKeyboardModel(\n",
              "  (embedding): Embedding(8360, 128)\n",
              "  (gru): GRU(128, 256, batch_first=True)\n",
              "  (fc): Linear(in_features=256, out_features=8360, bias=True)\n",
              ")"
            ]
          },
          "metadata": {},
          "execution_count": 73
        }
      ]
    },
    {
      "cell_type": "markdown",
      "source": [
        "**Evaluate Accuracy and Perplexity**"
      ],
      "metadata": {
        "id": "1SA7xiHovxEr"
      }
    },
    {
      "cell_type": "markdown",
      "source": [
        "✅ Evaluation Function: evaluate_gru_model()\n",
        "This function measures how well the GRU model is performing using:\n",
        "\n",
        "Top-k Accuracy (how often the true next word is among the top-k predictions).\n",
        "\n",
        "Perplexity (how \"confused\" or uncertain the model is — lower is better).\n",
        "\n",
        "How it works:\n",
        "Sample data: It randomly samples up to max_samples (e.g., 2000) from your preprocessed input/target pairs (encoded_data).\n",
        "\n",
        "Model prediction: For each input sequence, it predicts the next word.\n",
        "\n",
        "Loss calculation: It uses cross-entropy loss to measure how off the prediction is.\n",
        "\n",
        "Top-k accuracy:\n",
        "\n",
        "If top_k = 1, it checks if the top prediction matches the target.\n",
        "\n",
        "If top_k = 5, it checks if the target is in the top 5 predictions.\n",
        "\n",
        "It averages accuracy and computes perplexity using the total loss.\n",
        "\n",
        "This function gives you quantitative feedback on how well your model is learning.\n",
        "\n",
        "💬 Word Prediction: predict_next_words_gru()\n",
        "This function simulates a smart keyboard prediction, generating possible next words based on a 3-word prompt.\n",
        "\n",
        "How it works:\n",
        "Tokenization: It lowercases and splits the input string into words.\n",
        "\n",
        "Context check: It ensures you have at least 3 words (because sequence length = 4).\n",
        "\n",
        "Encoding: Converts the last 3 words into their corresponding IDs using word2idx.\n",
        "\n",
        "Prediction:\n",
        "\n",
        "The GRU model processes the input and returns scores for all vocabulary words.\n",
        "\n",
        "The top-k most probable words are chosen and mapped back to readable words using idx2word.\n",
        "\n",
        "Output: It prints and returns the suggested words.\n",
        "\n",
        "This makes your model interactive and user-friendly — you can type a prompt and get smart word suggestions!\n",
        "\n",
        "🧠 Summary\n",
        "You evaluate the model using accuracy and perplexity to judge performance.\n",
        "\n",
        "You use the model to suggest next words from any 3-word phrase.\n",
        "\n",
        "This is a more intelligent alternative to your earlier n-gram model — it can learn deeper patterns in text and perform better, especially when trained well."
      ],
      "metadata": {
        "id": "r_cSvCL6cfc2"
      }
    },
    {
      "cell_type": "code",
      "source": [
        "def evaluate_gru_model(model, encoded_data, top_k=1, max_samples=2000):\n",
        "    model.eval()\n",
        "    correct = 0\n",
        "    total_loss = 0\n",
        "    criterion = nn.CrossEntropyLoss()\n",
        "\n",
        "    with torch.no_grad():\n",
        "        for input_seq, target in random.sample(encoded_data, min(len(encoded_data), max_samples)):\n",
        "            input_seq = input_seq.unsqueeze(0).to(device)\n",
        "            target = target.to(device)\n",
        "            output = model(input_seq)\n",
        "            loss = criterion(output, target.unsqueeze(0))\n",
        "            total_loss += loss.item()\n",
        "\n",
        "            if top_k == 1:\n",
        "                pred = output.argmax(dim=1)\n",
        "                correct += (pred == target).item()\n",
        "            else:\n",
        "                top_preds = output.topk(top_k, dim=1).indices[0]\n",
        "                correct += (target in top_preds)\n",
        "\n",
        "    acc = correct / max_samples * 100\n",
        "    ppl = math.exp(total_loss / max_samples)\n",
        "    print(f\"GRU - Top-{top_k} Accuracy: {acc:.2f}%, Perplexity: {ppl:.2f}\")\n",
        "    return acc, ppl\n",
        "\n",
        "# Run Evaluation\n",
        "evaluate_gru_model(model, encoded_data, top_k=1)\n",
        "evaluate_gru_model(model, encoded_data, top_k=5)\n"
      ],
      "metadata": {
        "colab": {
          "base_uri": "https://localhost:8080/"
        },
        "id": "NvrTJl_3tr9p",
        "outputId": "5d45b8bb-be90-45b6-ad17-58a7434ffa01"
      },
      "execution_count": null,
      "outputs": [
        {
          "output_type": "stream",
          "name": "stdout",
          "text": [
            "GRU - Top-1 Accuracy: 53.00%, Perplexity: 7.36\n",
            "GRU - Top-5 Accuracy: 78.85%, Perplexity: 6.79\n"
          ]
        },
        {
          "output_type": "execute_result",
          "data": {
            "text/plain": [
              "(78.85, 6.7874276007639285)"
            ]
          },
          "metadata": {},
          "execution_count": 74
        }
      ]
    },
    {
      "cell_type": "markdown",
      "source": [
        "**Word Suggestion**"
      ],
      "metadata": {
        "id": "ZMLtCD0kwH8_"
      }
    },
    {
      "cell_type": "code",
      "source": [
        "def predict_next_words_gru(prompt, model, word2idx, idx2word, top_k=5):\n",
        "    model.eval()\n",
        "    tokens = word_tokenize(prompt.lower())\n",
        "\n",
        "    if len(tokens) < 3:\n",
        "        print(\"Prompt must be at least 3 words (since sequence length = 4)\")\n",
        "        return []\n",
        "\n",
        "    # Take only the last 3 tokens (input length = 3)\n",
        "    tokens = tokens[-3:]\n",
        "\n",
        "    try:\n",
        "        input_indices = [word2idx[token] for token in tokens]\n",
        "    except KeyError as e:\n",
        "        print(f\"Word not in vocabulary: {e}\")\n",
        "        return []\n",
        "\n",
        "    input_tensor = torch.tensor(input_indices).unsqueeze(0).to(device)\n",
        "\n",
        "    with torch.no_grad():\n",
        "        output = model(input_tensor)\n",
        "        top_indices = output.topk(top_k, dim=1).indices[0].tolist()\n",
        "        suggestions = [idx2word[idx] for idx in top_indices]\n",
        "\n",
        "    print(f\"Prompt: '{prompt}' → Suggestions: {suggestions}\")\n",
        "    return suggestions\n"
      ],
      "metadata": {
        "id": "qykuOgyawHpC"
      },
      "execution_count": null,
      "outputs": []
    },
    {
      "cell_type": "code",
      "source": [
        "predict_next_words_gru(\"so are we\", model, word2idx, idx2word, top_k=5)\n",
        "\n"
      ],
      "metadata": {
        "colab": {
          "base_uri": "https://localhost:8080/"
        },
        "id": "Bk2I1k0Kv4Jc",
        "outputId": "bd2818df-0edf-490a-8cc8-008438383a75"
      },
      "execution_count": null,
      "outputs": [
        {
          "output_type": "stream",
          "name": "stdout",
          "text": [
            "Prompt: 'so are we' → Suggestions: ['were', 'must', 'to', 'never', 'are']\n"
          ]
        },
        {
          "output_type": "execute_result",
          "data": {
            "text/plain": [
              "['were', 'must', 'to', 'never', 'are']"
            ]
          },
          "metadata": {},
          "execution_count": 75
        }
      ]
    },
    {
      "cell_type": "markdown",
      "source": [
        "**Build, Train, and Evaluate the LSTM Model**"
      ],
      "metadata": {
        "id": "qt2RZ2wFw02M"
      }
    },
    {
      "cell_type": "markdown",
      "source": [
        "🎯 Goal\n",
        "Train an LSTM model to predict the next word based on the previous 3 words, similar to your GRU model, but with a different kind of recurrent unit (LSTM instead of GRU).\n",
        "\n",
        "🔄 Workflow Summary\n",
        "1. Prepare the Data\n",
        "You use encoded_data, which contains input-target pairs like:\n",
        "\n",
        "Input: last 3 words (as IDs)\n",
        "\n",
        "Target: the next word (as ID)\n",
        "\n",
        "These are loaded into a DataLoader for batching during training.\n",
        "\n",
        "2. Define the LSTM Model\n",
        "The model consists of:\n",
        "\n",
        "Embedding Layer: Maps word indices to vector representations.\n",
        "\n",
        "LSTM Layer: Captures temporal dependencies (remembers sequence patterns better than simple RNN).\n",
        "\n",
        "Fully Connected Layer: Outputs a vector of size vocab_size with predicted scores for each word.\n",
        "\n",
        "3. Train the Model\n",
        "You use cross-entropy loss and the Adam optimizer.\n",
        "\n",
        "Each batch of input sequences is passed through the model, loss is calculated, and weights are updated.\n",
        "\n",
        "Training runs for 5 epochs, and the model is saved after each epoch to a file \"lstm_keyboard_model.pth\".\n",
        "\n",
        "4. Load the Trained Model\n",
        "You redefine the exact same architecture.\n",
        "\n",
        "Then you load the saved weights and set the model to evaluation mode (eval()).\n",
        "\n",
        "5. Evaluate the LSTM Model\n",
        "The function evaluate_lstm_model computes:\n",
        "\n",
        "Top-k Accuracy (how often the true target is in top-k predictions).\n",
        "\n",
        "Perplexity (measures how confident the model is; lower is better).\n",
        "\n",
        "Evaluation loop:\n",
        "\n",
        "For a sample of input-target pairs, it checks if the predicted word is correct or among top-k.\n",
        "\n",
        "It calculates average loss and computes perplexity from it.\n",
        "\n",
        "6. Make Predictions from Prompts\n",
        "The function predict_next_words_lstm() takes a 3-word phrase and:\n",
        "\n",
        "Converts it to indices using word2idx.\n",
        "\n",
        "Runs it through the LSTM model.\n",
        "\n",
        "Outputs the top-k most likely next words."
      ],
      "metadata": {
        "id": "M464B3TNcxdD"
      }
    },
    {
      "cell_type": "code",
      "source": [
        "def encode(seq): return [word2idx[word] for word in seq]\n",
        "\n",
        "\n",
        "# Prepare input-target tensors\n",
        "X = torch.stack([x for x, _ in encoded_data])\n",
        "y = torch.stack([y for _, y in encoded_data])\n",
        "batch_size = 64\n",
        "train_loader = DataLoader(TensorDataset(X, y), batch_size=batch_size, shuffle=True)\n",
        "\n",
        "# Define LSTM model\n",
        "class LSTMKeyboardModel(nn.Module):\n",
        "    def __init__(self, vocab_size, embed_dim=128, hidden_dim=256):\n",
        "        super(LSTMKeyboardModel, self).__init__()\n",
        "        self.embedding = nn.Embedding(vocab_size, embed_dim)\n",
        "        self.lstm = nn.LSTM(embed_dim, hidden_dim, batch_first=True)\n",
        "        self.fc = nn.Linear(hidden_dim, vocab_size)\n",
        "\n",
        "    def forward(self, x):\n",
        "        x = self.embedding(x)\n",
        "        _, (hidden, _) = self.lstm(x)\n",
        "        return self.fc(hidden[-1])\n",
        "\n",
        "# Train the LSTM\n",
        "device = torch.device(\"cuda\" if torch.cuda.is_available() else \"cpu\")\n",
        "lstm_model = LSTMKeyboardModel(vocab_size).to(device)\n",
        "criterion = nn.CrossEntropyLoss()\n",
        "optimizer = optim.Adam(lstm_model.parameters(), lr=0.003)\n",
        "\n",
        "epochs = 5\n",
        "for epoch in range(epochs):\n",
        "    total_loss = 0\n",
        "    lstm_model.train()\n",
        "    for xb, yb in train_loader:\n",
        "        xb, yb = xb.to(device), yb.to(device)\n",
        "        optimizer.zero_grad()\n",
        "        output = lstm_model(xb)\n",
        "        loss = criterion(output, yb)\n",
        "        loss.backward()\n",
        "        optimizer.step()\n",
        "        total_loss += loss.item()\n",
        "    print(f\"[Epoch {epoch+1}] Loss: {total_loss / len(train_loader):.4f}\")\n",
        "    # Save model weights\n",
        "    torch.save(lstm_model.state_dict(), \"lstm_keyboard_model.pth\")\n"
      ],
      "metadata": {
        "colab": {
          "base_uri": "https://localhost:8080/"
        },
        "id": "uo3yHS1jwzim",
        "outputId": "1f971665-2fc3-477f-94f5-3ff7d5103a3c"
      },
      "execution_count": null,
      "outputs": [
        {
          "output_type": "stream",
          "name": "stdout",
          "text": [
            "[Epoch 1] Loss: 5.2628\n",
            "[Epoch 2] Loss: 4.3692\n",
            "[Epoch 3] Loss: 3.7432\n",
            "[Epoch 4] Loss: 3.1788\n",
            "[Epoch 5] Loss: 2.7147\n"
          ]
        }
      ]
    },
    {
      "cell_type": "code",
      "source": [
        "\n",
        "class LSTMKeyboardModel(nn.Module):\n",
        "    def __init__(self, vocab_size, embed_dim=128, hidden_dim=256):\n",
        "        super(LSTMKeyboardModel, self).__init__()\n",
        "        self.embedding = nn.Embedding(vocab_size, embed_dim)\n",
        "        self.lstm = nn.LSTM(embed_dim, hidden_dim, batch_first=True)\n",
        "        self.fc = nn.Linear(hidden_dim, vocab_size)\n",
        "\n",
        "    def forward(self, x):\n",
        "        x = self.embedding(x)\n",
        "        _, (hidden, _) = self.lstm(x)\n",
        "        return self.fc(hidden[-1])\n",
        "\n",
        "# Load model\n",
        "device = torch.device(\"cuda\" if torch.cuda.is_available() else \"cpu\")\n",
        "lstm_model = LSTMKeyboardModel(vocab_size).to(device)\n",
        "lstm_model.load_state_dict(torch.load(\"lstm_keyboard_model.pth\"))\n",
        "lstm_model.eval()\n"
      ],
      "metadata": {
        "colab": {
          "base_uri": "https://localhost:8080/"
        },
        "id": "YNym4SQy_b8u",
        "outputId": "215ff27c-fb1a-44a7-e41b-5a7a8b37f87e"
      },
      "execution_count": null,
      "outputs": [
        {
          "output_type": "execute_result",
          "data": {
            "text/plain": [
              "LSTMKeyboardModel(\n",
              "  (embedding): Embedding(8360, 128)\n",
              "  (lstm): LSTM(128, 256, batch_first=True)\n",
              "  (fc): Linear(in_features=256, out_features=8360, bias=True)\n",
              ")"
            ]
          },
          "metadata": {},
          "execution_count": 77
        }
      ]
    },
    {
      "cell_type": "code",
      "source": [
        "def evaluate_lstm_model(model, encoded_data, top_k=1, max_samples=2000):\n",
        "    model.eval()\n",
        "    correct = 0\n",
        "    total_loss = 0\n",
        "    criterion = nn.CrossEntropyLoss()\n",
        "\n",
        "    with torch.no_grad():\n",
        "        for input_seq, target in random.sample(encoded_data, min(len(encoded_data), max_samples)):\n",
        "            input_seq = input_seq.unsqueeze(0).to(device)\n",
        "            target = target.to(device)\n",
        "            output = model(input_seq)\n",
        "            loss = criterion(output, target.unsqueeze(0))\n",
        "            total_loss += loss.item()\n",
        "\n",
        "            if top_k == 1:\n",
        "                pred = output.argmax(dim=1)\n",
        "                correct += (pred == target).item()\n",
        "            else:\n",
        "                top_preds = output.topk(top_k, dim=1).indices[0]\n",
        "                correct += (target in top_preds)\n",
        "\n",
        "    acc = correct / max_samples * 100\n",
        "    ppl = math.exp(total_loss / max_samples)\n",
        "    print(f\"LSTM - Top-{top_k} Accuracy: {acc:.2f}%, Perplexity: {ppl:.2f}\")\n",
        "    return acc, ppl\n",
        "\n",
        "# Evaluate\n",
        "evaluate_lstm_model(lstm_model, encoded_data, top_k=1)\n",
        "evaluate_lstm_model(lstm_model, encoded_data, top_k=5)\n"
      ],
      "metadata": {
        "colab": {
          "base_uri": "https://localhost:8080/"
        },
        "id": "E4CIqqX02_oT",
        "outputId": "900d852c-57ff-48a2-86e2-42345952c2be"
      },
      "execution_count": null,
      "outputs": [
        {
          "output_type": "stream",
          "name": "stdout",
          "text": [
            "LSTM - Top-1 Accuracy: 51.95%, Perplexity: 7.83\n",
            "LSTM - Top-5 Accuracy: 78.40%, Perplexity: 7.25\n"
          ]
        },
        {
          "output_type": "execute_result",
          "data": {
            "text/plain": [
              "(78.4, 7.2503680037899425)"
            ]
          },
          "metadata": {},
          "execution_count": 78
        }
      ]
    },
    {
      "cell_type": "markdown",
      "source": [
        "**word prediction**"
      ],
      "metadata": {
        "id": "hesyRQPS3D9t"
      }
    },
    {
      "cell_type": "code",
      "source": [
        "def predict_next_words_lstm(prompt, model, word2idx, idx2word, top_k=5):\n",
        "    model.eval()\n",
        "    tokens = word_tokenize(prompt.lower())\n",
        "\n",
        "    if len(tokens) < 3:\n",
        "        print(\"Prompt must be at least 3 words.\")\n",
        "        return []\n",
        "\n",
        "    tokens = tokens[-3:]  # use only last 3 tokens\n",
        "    try:\n",
        "        input_indices = [word2idx[token] for token in tokens]\n",
        "    except KeyError as e:\n",
        "        print(f\"Word not in vocab: {e}\")\n",
        "        return []\n",
        "\n",
        "    input_tensor = torch.tensor(input_indices).unsqueeze(0).to(device)\n",
        "\n",
        "    with torch.no_grad():\n",
        "        output = model(input_tensor)\n",
        "        top_indices = output.topk(top_k, dim=1).indices[0].tolist()\n",
        "        suggestions = [idx2word[i] for i in top_indices]\n",
        "\n",
        "    print(f\"Prompt: '{prompt}' → Suggestions: {suggestions}\")\n",
        "    return suggestions\n",
        "\n",
        "# Example\n",
        "predict_next_words_lstm(\"so are we\", lstm_model, word2idx, idx2word, top_k=5)\n"
      ],
      "metadata": {
        "colab": {
          "base_uri": "https://localhost:8080/"
        },
        "id": "p-GAwFP83A6p",
        "outputId": "822713d5-bcad-4795-a3c5-1b005bf5614e"
      },
      "execution_count": null,
      "outputs": [
        {
          "output_type": "stream",
          "name": "stdout",
          "text": [
            "Prompt: 'so are we' → Suggestions: ['shall', 'all', 'could', 'might', 'reached']\n"
          ]
        },
        {
          "output_type": "execute_result",
          "data": {
            "text/plain": [
              "['shall', 'all', 'could', 'might', 'reached']"
            ]
          },
          "metadata": {},
          "execution_count": 79
        }
      ]
    },
    {
      "cell_type": "markdown",
      "source": [
        "**Define the Transformer Model**"
      ],
      "metadata": {
        "id": "HqUXRFxP4LXi"
      }
    },
    {
      "cell_type": "markdown",
      "source": [
        "✅ Transformer Model Overview\n",
        "Key Components:\n",
        "\n",
        "Embedding: Converts word indices into vector representations.\n",
        "\n",
        "pos_encoder: A learnable positional encoding tensor for the 3-token input.\n",
        "\n",
        "TransformerEncoder: Stacked self-attention + feedforward layers.\n",
        "\n",
        "fc: Final fully connected layer projecting to vocabulary size.\n",
        "\n",
        "Input Assumption:\n",
        "You're assuming a fixed input sequence length = 3, matching the earlier GRU/LSTM models (since pos_encoder is shape [1, 3, embed_dim]).\n",
        "\n",
        "🔁 Training Summary\n",
        "You’ve trained the model with:\n",
        "\n",
        "CrossEntropyLoss\n",
        "\n",
        "Adam optimizer (LR = 0.003)\n",
        "\n",
        "5 epochs\n",
        "\n",
        "Batch size = 64\n",
        "\n",
        "✅ Model Reload Check\n",
        "You correctly:\n",
        "\n",
        "Re-created the exact same architecture.\n",
        "\n",
        "Loaded weights using load_state_dict(...).\n",
        "\n",
        "Set model to eval() mode.\n",
        "\n",
        "This matches best practices.\n",
        "\n",
        "🔍 Next Step: Evaluation & Prediction\n",
        "You should now add evaluation and prediction functions like you did for GRU and LSTM:\n",
        "\n",
        "Top-1 Accuracy\n",
        "\n",
        "Top-5 Accuracy\n",
        "\n",
        "Perplexity\n",
        "\n",
        "Prediction Quality"
      ],
      "metadata": {
        "id": "TM8pmeXqdLAs"
      }
    },
    {
      "cell_type": "code",
      "source": [
        "import torch.nn as nn\n",
        "import torch\n",
        "\n",
        "class TransformerKeyboardModel(nn.Module):\n",
        "    def __init__(self, vocab_size, embed_dim=128, num_heads=4, hidden_dim=256, num_layers=2):\n",
        "        super(TransformerKeyboardModel, self).__init__()\n",
        "        self.embedding = nn.Embedding(vocab_size, embed_dim)\n",
        "        self.pos_encoder = nn.Parameter(torch.zeros(1, 3, embed_dim))  # seq_len = 3\n",
        "        encoder_layer = nn.TransformerEncoderLayer(\n",
        "            d_model=embed_dim,\n",
        "            nhead=num_heads,\n",
        "            dim_feedforward=hidden_dim,\n",
        "            batch_first=True\n",
        "        )\n",
        "        self.transformer_encoder = nn.TransformerEncoder(encoder_layer, num_layers=num_layers)\n",
        "        self.fc = nn.Linear(embed_dim, vocab_size)\n",
        "\n",
        "    def forward(self, x):\n",
        "        x = self.embedding(x) + self.pos_encoder[:, :x.size(1), :]\n",
        "        x = self.transformer_encoder(x)\n",
        "        return self.fc(x[:, -1])  # predict based on final token in sequence\n"
      ],
      "metadata": {
        "id": "zl82n4G94MTk"
      },
      "execution_count": null,
      "outputs": []
    },
    {
      "cell_type": "markdown",
      "source": [
        "** Prepare Data & Train the Transformer**"
      ],
      "metadata": {
        "id": "5MS-Erfr4Txt"
      }
    },
    {
      "cell_type": "code",
      "source": [
        "from torch.utils.data import DataLoader, TensorDataset\n",
        "import torch.optim as optim\n",
        "\n",
        "# Stack input and target tensors\n",
        "X = torch.stack([x for x, _ in encoded_data])\n",
        "y = torch.stack([y for _, y in encoded_data])\n",
        "train_loader = DataLoader(TensorDataset(X, y), batch_size=64, shuffle=True)\n",
        "\n",
        "# Initialize model\n",
        "device = torch.device(\"cuda\" if torch.cuda.is_available() else \"cpu\")\n",
        "transformer_model = TransformerKeyboardModel(vocab_size).to(device)\n",
        "criterion = nn.CrossEntropyLoss()\n",
        "optimizer = optim.Adam(transformer_model.parameters(), lr=0.003)\n",
        "\n",
        "# Train the model\n",
        "epochs = 5\n",
        "for epoch in range(epochs):\n",
        "    total_loss = 0\n",
        "    transformer_model.train()\n",
        "    for xb, yb in train_loader:\n",
        "        xb, yb = xb.to(device), yb.to(device)\n",
        "        optimizer.zero_grad()\n",
        "        output = transformer_model(xb)\n",
        "        loss = criterion(output, yb)\n",
        "        loss.backward()\n",
        "        optimizer.step()\n",
        "        total_loss += loss.item()\n",
        "    print(f\"[Epoch {epoch+1}] Loss: {total_loss / len(train_loader):.4f}\")\n",
        "    # Save model weights\n",
        "    torch.save(transformer_model.state_dict(), \"transformer_keyboard_model.pth\")\n"
      ],
      "metadata": {
        "colab": {
          "base_uri": "https://localhost:8080/"
        },
        "id": "g06-t-Q64UqM",
        "outputId": "570d40b0-cb3c-46fa-d94b-730b3b27a28f"
      },
      "execution_count": null,
      "outputs": [
        {
          "output_type": "stream",
          "name": "stdout",
          "text": [
            "[Epoch 1] Loss: 5.5770\n",
            "[Epoch 2] Loss: 5.1768\n",
            "[Epoch 3] Loss: 5.0393\n",
            "[Epoch 4] Loss: 4.9377\n",
            "[Epoch 5] Loss: 4.8368\n"
          ]
        }
      ]
    },
    {
      "cell_type": "code",
      "source": [
        "import torch.nn as nn\n",
        "import torch\n",
        "\n",
        "class TransformerKeyboardModel(nn.Module):\n",
        "    def __init__(self, vocab_size, embed_dim=128, num_heads=4, hidden_dim=256, num_layers=2):\n",
        "        super(TransformerKeyboardModel, self).__init__()\n",
        "        self.embedding = nn.Embedding(vocab_size, embed_dim)\n",
        "        self.pos_encoder = nn.Parameter(torch.zeros(1, 3, embed_dim))  # seq_len = 3\n",
        "        encoder_layer = nn.TransformerEncoderLayer(\n",
        "            d_model=embed_dim,\n",
        "            nhead=num_heads,\n",
        "            dim_feedforward=hidden_dim,\n",
        "            batch_first=True\n",
        "        )\n",
        "        self.transformer_encoder = nn.TransformerEncoder(encoder_layer, num_layers=num_layers)\n",
        "        self.fc = nn.Linear(embed_dim, vocab_size)\n",
        "\n",
        "    def forward(self, x):\n",
        "        x = self.embedding(x) + self.pos_encoder[:, :x.size(1), :]\n",
        "        x = self.transformer_encoder(x)\n",
        "        return self.fc(x[:, -1])\n",
        "\n",
        "# Instantiate the model again with same parameters\n",
        "transformer_model = TransformerKeyboardModel(vocab_size).to(device)\n",
        "\n",
        "# Load saved weights\n",
        "transformer_model.load_state_dict(torch.load(\"transformer_keyboard_model.pth\"))\n",
        "\n",
        "# Set to evaluation mode\n",
        "transformer_model.eval()\n",
        "\n"
      ],
      "metadata": {
        "colab": {
          "base_uri": "https://localhost:8080/"
        },
        "id": "MRJQPcXF_rlU",
        "outputId": "00265601-3f98-45ae-9f3d-6acbb341d555"
      },
      "execution_count": null,
      "outputs": [
        {
          "output_type": "execute_result",
          "data": {
            "text/plain": [
              "TransformerKeyboardModel(\n",
              "  (embedding): Embedding(8360, 128)\n",
              "  (transformer_encoder): TransformerEncoder(\n",
              "    (layers): ModuleList(\n",
              "      (0-1): 2 x TransformerEncoderLayer(\n",
              "        (self_attn): MultiheadAttention(\n",
              "          (out_proj): NonDynamicallyQuantizableLinear(in_features=128, out_features=128, bias=True)\n",
              "        )\n",
              "        (linear1): Linear(in_features=128, out_features=256, bias=True)\n",
              "        (dropout): Dropout(p=0.1, inplace=False)\n",
              "        (linear2): Linear(in_features=256, out_features=128, bias=True)\n",
              "        (norm1): LayerNorm((128,), eps=1e-05, elementwise_affine=True)\n",
              "        (norm2): LayerNorm((128,), eps=1e-05, elementwise_affine=True)\n",
              "        (dropout1): Dropout(p=0.1, inplace=False)\n",
              "        (dropout2): Dropout(p=0.1, inplace=False)\n",
              "      )\n",
              "    )\n",
              "  )\n",
              "  (fc): Linear(in_features=128, out_features=8360, bias=True)\n",
              ")"
            ]
          },
          "metadata": {},
          "execution_count": 84
        }
      ]
    },
    {
      "cell_type": "markdown",
      "source": [
        "**Evaluate the Transformer Model**"
      ],
      "metadata": {
        "id": "qCxf2Ast6jz9"
      }
    },
    {
      "cell_type": "markdown",
      "source": [
        "✅ Transformer Model Evaluation\n",
        "You trained a Transformer model and evaluated it with:\n",
        "\n",
        "Top-1 Accuracy: 16.20%\n",
        "\n",
        "Top-5 Accuracy: 38.45%\n",
        "\n",
        "Perplexity: 104.13\n",
        "\n",
        "This result is significantly lower than your other models. This suggests:\n",
        "\n",
        "The Transformer is underfitting (possibly undertrained or overly complex for your dataset).\n",
        "\n",
        "The model might require more training epochs, larger dataset, more positional information, or adjusted architecture (like smaller number of heads/layers or attention dropout).\n",
        "\n",
        "✅ Evaluation and Visualization\n",
        "You added:\n",
        "\n",
        "A general evaluate_model function.\n",
        "\n",
        "A fine_tune_model function.\n",
        "\n",
        "Visualizations comparing original and fine-tuned results.\n",
        "\n",
        "You then fine-tuned GRU and LSTM, and the improvements are very promising:\n",
        "\n",
        "Model\tTop-1 Acc\tTop-5 Acc\tPerplexity\n",
        "GRU (Finetuned)\t70.25%\t89.50%\t3.28\n",
        "LSTM (Finetuned)\t68.35%\t88.20%\t3.67\n",
        "\n"
      ],
      "metadata": {
        "id": "sVJv6EcadpVn"
      }
    },
    {
      "cell_type": "code",
      "source": [
        "import math\n",
        "import random\n",
        "\n",
        "def evaluate_transformer_model(model, encoded_data, top_k=1, max_samples=2000):\n",
        "    model.eval()\n",
        "    correct = 0\n",
        "    total_loss = 0\n",
        "    criterion = nn.CrossEntropyLoss()\n",
        "\n",
        "    with torch.no_grad():\n",
        "        for input_seq, target in random.sample(encoded_data, min(len(encoded_data), max_samples)):\n",
        "            input_seq = input_seq.unsqueeze(0).to(device)\n",
        "            target = target.to(device)\n",
        "            output = model(input_seq)\n",
        "            loss = criterion(output, target.unsqueeze(0))\n",
        "            total_loss += loss.item()\n",
        "\n",
        "            if top_k == 1:\n",
        "                pred = output.argmax(dim=1)\n",
        "                correct += (pred == target).item()\n",
        "            else:\n",
        "                top_preds = output.topk(top_k, dim=1).indices[0]\n",
        "                correct += (target in top_preds)\n",
        "\n",
        "    acc = correct / max_samples * 100\n",
        "    ppl = math.exp(total_loss / max_samples)\n",
        "    print(f\"Transformer - Top-{top_k} Accuracy: {acc:.2f}%, Perplexity: {ppl:.2f}\")\n",
        "    return acc, ppl\n",
        "\n",
        "# Evaluate\n",
        "evaluate_transformer_model(transformer_model, encoded_data, top_k=1)\n",
        "evaluate_transformer_model(transformer_model, encoded_data, top_k=5)\n"
      ],
      "metadata": {
        "colab": {
          "base_uri": "https://localhost:8080/"
        },
        "id": "3S1IH45W6kNQ",
        "outputId": "e86a430e-5133-43d0-9454-0b5b45e8cf61"
      },
      "execution_count": null,
      "outputs": [
        {
          "output_type": "stream",
          "name": "stdout",
          "text": [
            "Transformer - Top-1 Accuracy: 16.20%, Perplexity: 104.90\n",
            "Transformer - Top-5 Accuracy: 38.45%, Perplexity: 104.13\n"
          ]
        },
        {
          "output_type": "execute_result",
          "data": {
            "text/plain": [
              "(38.45, 104.13482670880133)"
            ]
          },
          "metadata": {},
          "execution_count": 85
        }
      ]
    },
    {
      "cell_type": "markdown",
      "source": [
        "**Next Word Suggestions**"
      ],
      "metadata": {
        "id": "oWH1d3Mc61Sk"
      }
    },
    {
      "cell_type": "code",
      "source": [
        "def predict_next_words_transformer(prompt, model, word2idx, idx2word, top_k=5):\n",
        "    model.eval()\n",
        "    tokens = word_tokenize(prompt.lower())\n",
        "    if len(tokens) < 3:\n",
        "        print(\"Prompt must be at least 3 words.\")\n",
        "        return []\n",
        "\n",
        "    tokens = tokens[-3:]\n",
        "    try:\n",
        "        input_indices = [word2idx[token] for token in tokens]\n",
        "    except KeyError as e:\n",
        "        print(f\"Word not in vocab: {e}\")\n",
        "        return []\n",
        "\n",
        "    input_tensor = torch.tensor(input_indices).unsqueeze(0).to(device)\n",
        "\n",
        "    with torch.no_grad():\n",
        "        output = model(input_tensor)\n",
        "        top_indices = output.topk(top_k, dim=1).indices[0].tolist()\n",
        "        suggestions = [idx2word[i] for i in top_indices]\n",
        "\n",
        "    print(f\"Prompt: '{prompt}' → Suggestions: {suggestions}\")\n",
        "    return suggestions\n",
        "\n",
        "# Example\n",
        "predict_next_words_transformer(\"so are we\", transformer_model, word2idx, idx2word)\n"
      ],
      "metadata": {
        "colab": {
          "base_uri": "https://localhost:8080/"
        },
        "id": "wo3U1-rl60w_",
        "outputId": "3bbfdaf4-61ac-4069-b87b-3f11bec50e6a"
      },
      "execution_count": null,
      "outputs": [
        {
          "output_type": "stream",
          "name": "stdout",
          "text": [
            "Prompt: 'so are we' → Suggestions: ['had', 'have', 'are', 'found', 'were']\n"
          ]
        },
        {
          "output_type": "execute_result",
          "data": {
            "text/plain": [
              "['had', 'have', 'are', 'found', 'were']"
            ]
          },
          "metadata": {},
          "execution_count": 86
        }
      ]
    },
    {
      "cell_type": "code",
      "source": [
        "import matplotlib.pyplot as plt\n",
        "\n",
        "# Replace these with your actual values\n",
        "results = {\n",
        "    \"N-Gram\": {\"top1_acc\": 79.85, \"top5_acc\": 94.85,\"ppl\":1.61},\n",
        "    \"GRU\": {\"top1_acc\": 53.00, \"top5_acc\": 78.85, \"ppl\": 6.79},\n",
        "    \"LSTM\": {\"top1_acc\": 51.95, \"top5_acc\": 78.40, \"ppl\": 7.25},\n",
        "    \"Transformer\": {\"top1_acc\": 16.20, \"top5_acc\": 38.45, \"ppl\": 104.13}\n",
        "}\n"
      ],
      "metadata": {
        "id": "sjuQzvW9QO3b"
      },
      "execution_count": null,
      "outputs": []
    },
    {
      "cell_type": "code",
      "source": [
        "# Extract data\n",
        "models = list(results.keys())\n",
        "top1 = [results[m][\"top1_acc\"] for m in models]\n",
        "top5 = [results[m][\"top5_acc\"] for m in models]\n",
        "ppl = [results[m][\"ppl\"] for m in models]\n",
        "\n",
        "# Create subplots\n",
        "fig, ax = plt.subplots(1, 2, figsize=(14, 6))\n",
        "\n",
        "# Accuracy Plot\n",
        "ax[0].bar(models, top1, label=\"Top-1 Accuracy\", alpha=0.7)\n",
        "ax[0].bar(models, top5, label=\"Top-5 Accuracy\", alpha=0.7)\n",
        "ax[0].set_title(\"Model Accuracy Comparison\")\n",
        "ax[0].set_ylabel(\"Accuracy (%)\")\n",
        "ax[0].legend()\n",
        "ax[0].grid(True)\n",
        "\n",
        "# Perplexity Plot\n",
        "ax[1].bar(models, ppl, color=\"coral\", alpha=0.7)\n",
        "ax[1].set_title(\"Model Perplexity Comparison\")\n",
        "ax[1].set_ylabel(\"Perplexity (lower is better)\")\n",
        "ax[1].grid(True)\n",
        "\n",
        "plt.tight_layout()\n",
        "plt.show()"
      ],
      "metadata": {
        "colab": {
          "base_uri": "https://localhost:8080/",
          "height": 441
        },
        "id": "uOHpGhLjQQGt",
        "outputId": "73d0fbab-50a5-4288-d8b5-5d1b95e5b3a6"
      },
      "execution_count": null,
      "outputs": [
        {
          "output_type": "display_data",
          "data": {
            "text/plain": [
              "<Figure size 1400x600 with 2 Axes>"
            ],
            "image/png": "[encoded data removed]"
          },
          "metadata": {}
        }
      ]
    },
    {
      "cell_type": "markdown",
      "source": [
        "**Evaluation Function**"
      ],
      "metadata": {
        "id": "kY3t6jPCHTAW"
      }
    },
    {
      "cell_type": "code",
      "source": [
        "import random\n",
        "import math\n",
        "\n",
        "def evaluate_model(model, encoded_data, device, top_k_list=[1, 5], max_samples=2000):\n",
        "    model.eval()\n",
        "    results = {}\n",
        "    criterion = nn.CrossEntropyLoss()\n",
        "    sampled = random.sample(encoded_data, min(max_samples, len(encoded_data)))\n",
        "\n",
        "    with torch.no_grad():\n",
        "        for top_k in top_k_list:\n",
        "            correct = 0\n",
        "            total_loss = 0\n",
        "\n",
        "            for input_seq, target in sampled:\n",
        "                input_seq = input_seq.unsqueeze(0).to(device)\n",
        "                target = target.to(device)\n",
        "                output = model(input_seq)\n",
        "                loss = criterion(output, target.unsqueeze(0))\n",
        "                total_loss += loss.item()\n",
        "\n",
        "                if top_k == 1:\n",
        "                    pred = output.argmax(dim=1)\n",
        "                    correct += (pred == target).item()\n",
        "                else:\n",
        "                    top_preds = output.topk(top_k, dim=1).indices[0]\n",
        "                    correct += (target in top_preds)\n",
        "\n",
        "            acc = correct / len(sampled) * 100\n",
        "            results[f'top{top_k}_acc'] = acc\n",
        "\n",
        "        results['ppl'] = math.exp(total_loss / len(sampled))\n",
        "\n",
        "    return results\n"
      ],
      "metadata": {
        "id": "UpBGaCk1HSg4"
      },
      "execution_count": null,
      "outputs": []
    },
    {
      "cell_type": "markdown",
      "source": [
        "**Fine-Tuning Function**"
      ],
      "metadata": {
        "id": "niY7YWYWIuHz"
      }
    },
    {
      "cell_type": "code",
      "source": [
        "def fine_tune_model(model, model_name, train_loader, encoded_data, device, save_path, epochs=3, lr=0.001):\n",
        "    print(f\"\\n🔧 Fine-tuning {model_name}...\")\n",
        "    optimizer = optim.Adam(model.parameters(), lr=lr)\n",
        "    criterion = nn.CrossEntropyLoss()\n",
        "    clip = 5.0  # gradient clipping\n",
        "\n",
        "    for epoch in range(epochs):\n",
        "        model.train()\n",
        "        total_loss = 0\n",
        "\n",
        "        for xb, yb in train_loader:\n",
        "            xb, yb = xb.to(device), yb.to(device)\n",
        "            optimizer.zero_grad()\n",
        "            output = model(xb)\n",
        "            loss = criterion(output, yb)\n",
        "            loss.backward()\n",
        "            torch.nn.utils.clip_grad_norm_(model.parameters(), clip)\n",
        "            optimizer.step()\n",
        "            total_loss += loss.item()\n",
        "\n",
        "        avg_loss = total_loss / len(train_loader)\n",
        "        metrics = evaluate_model(model, encoded_data, device)\n",
        "        print(f\"[{model_name} Epoch {epoch+1}] Loss: {avg_loss:.4f} | \"\n",
        "              f\"Top-1 Acc: {metrics['top1_acc']:.2f}% | \"\n",
        "              f\"Top-5 Acc: {metrics['top5_acc']:.2f}% | PPL: {metrics['ppl']:.2f}\")\n",
        "\n",
        "    torch.save(model.state_dict(), save_path)\n",
        "    print(f\"✅ {model_name} fine-tuned and saved to '{save_path}'\")\n"
      ],
      "metadata": {
        "id": "D4EpFC13IuqE"
      },
      "execution_count": null,
      "outputs": []
    },
    {
      "cell_type": "markdown",
      "source": [
        "**Reload Saved Models and Fine-Tune**"
      ],
      "metadata": {
        "id": "zvV2nUeUI40k"
      }
    },
    {
      "cell_type": "code",
      "source": [
        "# Load trained models\n",
        "gru_model = GRUKeyboardModel(vocab_size, num_layers=1).to(device)\n",
        "gru_model.load_state_dict(torch.load(\"gru_keyboard_model.pth\"))\n",
        "\n",
        "\n",
        "lstm_model = LSTMKeyboardModel(vocab_size).to(device)\n",
        "lstm_model.load_state_dict(torch.load(\"lstm_keyboard_model.pth\"))\n",
        "\n",
        "# Fine-tune\n",
        "fine_tune_model(gru_model, \"GRU\", train_loader, encoded_data, device, save_path=\"gru_keyboard_finetuned.pth\")\n",
        "fine_tune_model(lstm_model, \"LSTM\", train_loader, encoded_data, device, save_path=\"lstm_keyboard_finetuned.pth\")\n"
      ],
      "metadata": {
        "colab": {
          "base_uri": "https://localhost:8080/"
        },
        "id": "Go-bW6azI54b",
        "outputId": "cb706bd5-082e-4ead-e469-ea6263d3b84f"
      },
      "execution_count": null,
      "outputs": [
        {
          "metadata": {
            "tags": null
          },
          "name": "stderr",
          "output_type": "stream",
          "text": [
            "/usr/local/lib/python3.11/dist-packages/torch/nn/modules/rnn.py:123: UserWarning: dropout option adds dropout after all but last recurrent layer, so non-zero dropout expects num_layers greater than 1, but got dropout=0.3 and num_layers=1\n",
            "  warnings.warn(\n"
          ]
        },
        {
          "output_type": "stream",
          "name": "stdout",
          "text": [
            "\n",
            "🔧 Fine-tuning GRU...\n",
            "[GRU Epoch 1] Loss: 1.9832 | Top-1 Acc: 65.20% | Top-5 Acc: 86.45% | PPL: 4.14\n",
            "[GRU Epoch 2] Loss: 1.6359 | Top-1 Acc: 68.20% | Top-5 Acc: 88.05% | PPL: 3.57\n",
            "[GRU Epoch 3] Loss: 1.4802 | Top-1 Acc: 70.25% | Top-5 Acc: 89.50% | PPL: 3.28\n",
            "✅ GRU fine-tuned and saved to 'gru_keyboard_finetuned.pth'\n",
            "\n",
            "🔧 Fine-tuning LSTM...\n",
            "[LSTM Epoch 1] Loss: 2.1543 | Top-1 Acc: 62.00% | Top-5 Acc: 82.50% | PPL: 5.41\n",
            "[LSTM Epoch 2] Loss: 1.8052 | Top-1 Acc: 66.55% | Top-5 Acc: 86.05% | PPL: 4.41\n",
            "[LSTM Epoch 3] Loss: 1.6128 | Top-1 Acc: 68.35% | Top-5 Acc: 88.20% | PPL: 3.67\n",
            "✅ LSTM fine-tuned and saved to 'lstm_keyboard_finetuned.pth'\n"
          ]
        }
      ]
    },
    {
      "cell_type": "code",
      "source": [
        "# Make sure GRU class definition includes num_layers as before\n",
        "gru_model = GRUKeyboardModel(vocab_size, embed_dim=128, hidden_dim=256, num_layers=1).to(device)\n",
        "gru_model.load_state_dict(torch.load(\"gru_keyboard_finetuned.pth\"))\n",
        "gru_model.eval()\n",
        "print(\"✅ GRU model loaded and ready.\")\n"
      ],
      "metadata": {
        "colab": {
          "base_uri": "https://localhost:8080/"
        },
        "id": "XZJThPblPAhi",
        "outputId": "e39f5f1f-8938-4c2b-ab7f-5ccaa20dca84"
      },
      "execution_count": null,
      "outputs": [
        {
          "output_type": "stream",
          "name": "stdout",
          "text": [
            "✅ GRU model loaded and ready.\n"
          ]
        }
      ]
    },
    {
      "cell_type": "code",
      "source": [
        "# Default is one layer, so no need to specify num_layers if unchanged\n",
        "lstm_model = LSTMKeyboardModel(vocab_size, embed_dim=128, hidden_dim=256).to(device)\n",
        "lstm_model.load_state_dict(torch.load(\"lstm_keyboard_finetuned.pth\"))\n",
        "lstm_model.eval()\n",
        "print(\"✅ LSTM model loaded and ready.\")\n"
      ],
      "metadata": {
        "colab": {
          "base_uri": "https://localhost:8080/"
        },
        "id": "7y4-A3g3PCOl",
        "outputId": "8b5be27e-31fb-491b-802a-4b58b9a47daf"
      },
      "execution_count": null,
      "outputs": [
        {
          "output_type": "stream",
          "name": "stdout",
          "text": [
            "✅ LSTM model loaded and ready.\n"
          ]
        }
      ]
    },
    {
      "cell_type": "code",
      "source": [
        "import matplotlib.pyplot as plt\n",
        "\n",
        "# Fine-tuned model names\n",
        "models = [\"GRU (Finetuned)\", \"LSTM (Finetuned)\"]\n",
        "\n",
        "# Accuracy and perplexity from your results\n",
        "top1_acc = [70.25, 68.35]\n",
        "top5_acc = [89.50, 88.20]\n",
        "perplexity = [3.28, 3.67]\n",
        "\n",
        "# Create bar plots\n",
        "plt.figure(figsize=(12, 4))\n",
        "\n",
        "# Top-1 Accuracy\n",
        "plt.subplot(1, 3, 1)\n",
        "plt.bar(models, top1_acc, color='skyblue')\n",
        "plt.title(\"Top-1 Accuracy (%)\")\n",
        "plt.ylim(0, 100)\n",
        "plt.grid(axis='y')\n",
        "\n",
        "# Top-5 Accuracy\n",
        "plt.subplot(1, 3, 2)\n",
        "plt.bar(models, top5_acc, color='lightgreen')\n",
        "plt.title(\"Top-5 Accuracy (%)\")\n",
        "plt.ylim(0, 100)\n",
        "plt.grid(axis='y')\n",
        "\n",
        "# Perplexity\n",
        "plt.subplot(1, 3, 3)\n",
        "plt.bar(models, perplexity, color='salmon')\n",
        "plt.title(\"Perplexity\")\n",
        "plt.grid(axis='y')\n",
        "\n",
        "plt.tight_layout()\n",
        "plt.show()\n"
      ],
      "metadata": {
        "colab": {
          "base_uri": "https://localhost:8080/",
          "height": 345
        },
        "id": "HbervXoyTaIl",
        "outputId": "07cd0d0c-510e-4b69-f727-a4cf094fe071"
      },
      "execution_count": null,
      "outputs": [
        {
          "output_type": "display_data",
          "data": {
            "text/plain": [
              "<Figure size 1200x400 with 3 Axes>"
            ],
            "image/png": "[encoded data removed]"
          },
          "metadata": {}
        }
      ]
    },
    {
      "cell_type": "markdown",
      "source": [
        "**RESULTS**"
      ],
      "metadata": {
        "id": "5qa7iXUTgP_0"
      }
    },
    {
      "cell_type": "markdown",
      "source": [
        "1. N-gram is best at Top-1 and Top-5 Accuracy\n",
        "It gives the most accurate word predictions (likely because of exact matches from short sequences).\n",
        "\n",
        "\n",
        "2. GRU performs best overall in generalization\n",
        "Top-5 Accuracy (78.85%) is strong.\n",
        "\n",
        "Perplexity (6.79) is excellent — much better than N-gram and Transformer.\n",
        "\n",
        "Indicates that it understands sequence patterns well and is confident.\n",
        "\n",
        "3. LSTM is close to GRU\n",
        "Slightly lower accuracy and slightly higher perplexity.\n",
        "\n",
        "Still a solid choice.\n",
        "\n",
        "4. Transformer performed worst\n",
        "Poor accuracy and highest perplexity.\n",
        "\n",
        "Likely due to:\n",
        "\n",
        "Insufficient training (5 epochs only)\n",
        "\n",
        "Smaller dataset\n",
        "\n",
        "Not optimized hyperparameters\n",
        "\n",
        "\n",
        "🧠 Final Insights\n",
        "Metric\tBest Model\n",
        "Accuracy (Top-1/5)\tN-gram\n",
        "Generalization\tGRU\n",
        "Best Tradeoff\t✅ GRU (accurate & low perplexity)\n",
        "Needs improvement\tTransformer (needs longer training)"
      ],
      "metadata": {
        "id": "putCsWOugPu-"
      }
    }
  ],
  "metadata": {
    "colab": {
      "provenance": []
    },
    "kernelspec": {
      "display_name": "Python 3",
      "name": "python3"
    },
    "language_info": {
      "name": "python"
    }
  },
  "nbformat": 4,
  "nbformat_minor": 0
}